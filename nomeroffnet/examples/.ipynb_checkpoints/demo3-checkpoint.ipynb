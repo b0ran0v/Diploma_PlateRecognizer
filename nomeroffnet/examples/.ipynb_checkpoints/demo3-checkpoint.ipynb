{
 "cells": [
  {
   "cell_type": "markdown",
   "metadata": {},
   "source": [
    "<img width=\"400\" src=\"https://nomeroff.net.ua/images/logo/nomeroff_net.svg\" alt=\"Nomeroff Net. Automatic numberplate recognition system\" align=\"left\"/>"
   ]
  },
  {
   "cell_type": "markdown",
   "metadata": {},
   "source": [
    "## The example demonstrates license plate number detection."
   ]
  },
  {
   "cell_type": "markdown",
   "metadata": {},
   "source": [
    "Before runing this demo, please download models from [https://nomeroff.net.ua/models/](https://nomeroff.net.ua/models/) to **./models/** directory. "
   ]
  },
  {
   "cell_type": "code",
   "execution_count": 1,
   "metadata": {},
   "outputs": [],
   "source": [
    "# Import all necessary libraries.\n",
    "import os\n",
    "import cv2\n",
    "import numpy as np\n",
    "import sys\n",
    "import json\n",
    "import matplotlib.image as mpimg\n",
    "from matplotlib import pyplot as plt\n",
    "import warnings\n",
    "warnings.filterwarnings('ignore')\n",
    "\n",
    "# change this property\n",
    "NOMEROFF_NET_DIR = os.path.abspath('../')\n",
    "\n",
    "# specify the path to Mask_RCNN if you placed it outside Nomeroff-net project\n",
    "MASK_RCNN_DIR = os.path.join(NOMEROFF_NET_DIR, 'Mask_RCNN')\n",
    "\n",
    "MASK_RCNN_LOG_DIR = os.path.join(NOMEROFF_NET_DIR, 'logs')\n",
    "MASK_RCNN_MODEL_PATH = os.path.join(NOMEROFF_NET_DIR, \"models/mask_rcnn_numberplate_0700.h5\")\n",
    "OPTIONS_MODEL_PATH =  os.path.join(NOMEROFF_NET_DIR, \"models/numberplate_kz_options_2019_04_17.h5\")\n",
    "\n",
    "# If you use gpu version tensorflow please change model to gpu version named like *-gpu.pb\n",
    "mode = \"cpu\"\n",
    "OCR_NP_UKR_TEXT = os.path.join(NOMEROFF_NET_DIR, \"models/anpr_ocr_ua_12-{}.h5\".format(mode))\n",
    "OCR_NP_EU_TEXT =  os.path.join(NOMEROFF_NET_DIR, \"models/anpr_ocr_eu_2-{}.h5\".format(mode))\n",
    "OCR_NP_RU_TEXT =  os.path.join(NOMEROFF_NET_DIR, \"models/anpr_ocr_ru_3-{}.h5\".format(mode))\n",
    "OCR_NP_KZ_TEXT =  os.path.join(NOMEROFF_NET_DIR, \"models/anpr_ocr_kz_3-{}.h5\".format(mode))\n",
    "\n",
    "sys.path.append(NOMEROFF_NET_DIR)"
   ]
  },
  {
   "cell_type": "markdown",
   "metadata": {},
   "source": [
    "Also you may use .pb models for options detectors or OCR detectors. \n",
    "More about conversion and preparing for inference withit https://github.com/ria-com/nomeroff-net/blob/master/examples/inference_convert.ipynb."
   ]
  },
  {
   "cell_type": "code",
   "execution_count": 2,
   "metadata": {},
   "outputs": [
    {
     "name": "stderr",
     "output_type": "stream",
     "text": [
      "Using TensorFlow backend.\n"
     ]
    },
    {
     "name": "stdout",
     "output_type": "stream",
     "text": [
      "WARNING:tensorflow:From C:\\Users\\User\\Anaconda3\\lib\\site-packages\\tensorflow\\python\\framework\\op_def_library.py:263: colocate_with (from tensorflow.python.framework.ops) is deprecated and will be removed in a future version.\n",
      "Instructions for updating:\n",
      "Colocations handled automatically by placer.\n",
      "WARNING:tensorflow:From C:\\Users\\User\\nomeroff-net\\Mask_RCNN\\mrcnn\\model.py:772: to_float (from tensorflow.python.ops.math_ops) is deprecated and will be removed in a future version.\n",
      "Instructions for updating:\n",
      "Use tf.cast instead.\n",
      "WARNING:tensorflow:From C:\\Users\\User\\Anaconda3\\lib\\site-packages\\keras\\backend\\tensorflow_backend.py:3445: calling dropout (from tensorflow.python.ops.nn_ops) with keep_prob is deprecated and will be removed in a future version.\n",
      "Instructions for updating:\n",
      "Please use `rate` instead of `keep_prob`. Rate should be set to `rate = 1 - keep_prob`.\n",
      "WARNING:tensorflow:From C:\\Users\\User\\Anaconda3\\lib\\site-packages\\tensorflow\\python\\ops\\math_ops.py:3066: to_int32 (from tensorflow.python.ops.math_ops) is deprecated and will be removed in a future version.\n",
      "Instructions for updating:\n",
      "Use tf.cast instead.\n"
     ]
    }
   ],
   "source": [
    "# Import license plate recognition tools.\n",
    "from NomeroffNet import  filters, RectDetector, TextDetector, OptionsDetector, Detector, textPostprocessing, textPostprocessingAsync\n",
    "\n",
    "# Initialize npdetector with default configuration file.\n",
    "nnet = Detector(MASK_RCNN_DIR, MASK_RCNN_LOG_DIR)\n",
    "nnet.loadModel(MASK_RCNN_MODEL_PATH)\n",
    "\n",
    "rectDetector = RectDetector()\n",
    "\n",
    "optionsDetector = OptionsDetector({\n",
    "    \"class_region\": [\"xx_unknown\", \"eu_ua_2015\", \"eu_ua_2004\", \"eu_ua_1995\", \"eu\", \"xx_transit\", \"ru\", \"kz\"]\n",
    "})\n",
    "optionsDetector.load(OPTIONS_MODEL_PATH)\n",
    "\n",
    "# Initialize text detector.\n",
    "textDetector = TextDetector({\n",
    "    \"eu_ua_2004_2015\": {\n",
    "        \"for_regions\": [\"eu_ua_2015\", \"eu_ua_2004\"],\n",
    "        \"model_path\": OCR_NP_UKR_TEXT\n",
    "    },\n",
    "    \"eu\": {\n",
    "        \"for_regions\": [\"eu\", \"eu_ua_1995\"],\n",
    "        \"model_path\": OCR_NP_EU_TEXT\n",
    "    },\n",
    "    \"ru\": {\n",
    "        \"for_regions\": [\"ru\"],\n",
    "        \"model_path\": OCR_NP_RU_TEXT\n",
    "    },\n",
    "    \"kz\": {\n",
    "        \"for_regions\": [\"kz\"],\n",
    "        \"model_path\": OCR_NP_KZ_TEXT\n",
    "    }\n",
    "})"
   ]
  },
  {
   "cell_type": "code",
   "execution_count": 4,
   "metadata": {
    "scrolled": false
   },
   "outputs": [
    {
     "name": "stdout",
     "output_type": "stream",
     "text": [
      "images/20717578-39-full.jpg\n",
      "[[[168.53555882 391.73663827]\n",
      "  [306.39888772 449.08778309]\n",
      "  [303.66126605 517.52832489]\n",
      "  [161.96193732 439.06671311]]]\n"
     ]
    },
    {
     "ename": "IndexError",
     "evalue": "list index out of range",
     "output_type": "error",
     "traceback": [
      "\u001b[1;31m---------------------------------------------------------------------------\u001b[0m",
      "\u001b[1;31mIndexError\u001b[0m                                Traceback (most recent call last)",
      "\u001b[1;32mcell_name\u001b[0m in \u001b[0;36masync-def-wrapper\u001b[1;34m()\u001b[0m\n",
      "\u001b[1;32m~\\nomeroff-net\\NomeroffNet\\OptionsDetector.py\u001b[0m in \u001b[0;36mgetRegionLabels\u001b[1;34m(self, indexes)\u001b[0m\n\u001b[0;32m    288\u001b[0m \u001b[1;33m\u001b[0m\u001b[0m\n\u001b[0;32m    289\u001b[0m     \u001b[1;32mdef\u001b[0m \u001b[0mgetRegionLabels\u001b[0m\u001b[1;33m(\u001b[0m\u001b[0mself\u001b[0m\u001b[1;33m,\u001b[0m \u001b[0mindexes\u001b[0m\u001b[1;33m)\u001b[0m\u001b[1;33m:\u001b[0m\u001b[1;33m\u001b[0m\u001b[1;33m\u001b[0m\u001b[0m\n\u001b[1;32m--> 290\u001b[1;33m         \u001b[1;32mreturn\u001b[0m \u001b[1;33m[\u001b[0m\u001b[0mself\u001b[0m\u001b[1;33m.\u001b[0m\u001b[0mCLASS_REGION\u001b[0m\u001b[1;33m[\u001b[0m\u001b[0mindex\u001b[0m\u001b[1;33m]\u001b[0m \u001b[1;32mfor\u001b[0m \u001b[0mindex\u001b[0m \u001b[1;32min\u001b[0m \u001b[0mindexes\u001b[0m\u001b[1;33m]\u001b[0m\u001b[1;33m\u001b[0m\u001b[1;33m\u001b[0m\u001b[0m\n\u001b[0m\u001b[0;32m    291\u001b[0m \u001b[1;33m\u001b[0m\u001b[0m\n\u001b[0;32m    292\u001b[0m     \u001b[1;32mdef\u001b[0m \u001b[0mcompile_train_generator\u001b[0m\u001b[1;33m(\u001b[0m\u001b[0mself\u001b[0m\u001b[1;33m,\u001b[0m \u001b[0mtrain_dir\u001b[0m\u001b[1;33m,\u001b[0m \u001b[0mtarget_size\u001b[0m\u001b[1;33m,\u001b[0m \u001b[0mbatch_size\u001b[0m\u001b[1;33m=\u001b[0m\u001b[1;36m32\u001b[0m\u001b[1;33m)\u001b[0m\u001b[1;33m:\u001b[0m\u001b[1;33m\u001b[0m\u001b[1;33m\u001b[0m\u001b[0m\n",
      "\u001b[1;32m~\\nomeroff-net\\NomeroffNet\\OptionsDetector.py\u001b[0m in \u001b[0;36m<listcomp>\u001b[1;34m(.0)\u001b[0m\n\u001b[0;32m    288\u001b[0m \u001b[1;33m\u001b[0m\u001b[0m\n\u001b[0;32m    289\u001b[0m     \u001b[1;32mdef\u001b[0m \u001b[0mgetRegionLabels\u001b[0m\u001b[1;33m(\u001b[0m\u001b[0mself\u001b[0m\u001b[1;33m,\u001b[0m \u001b[0mindexes\u001b[0m\u001b[1;33m)\u001b[0m\u001b[1;33m:\u001b[0m\u001b[1;33m\u001b[0m\u001b[1;33m\u001b[0m\u001b[0m\n\u001b[1;32m--> 290\u001b[1;33m         \u001b[1;32mreturn\u001b[0m \u001b[1;33m[\u001b[0m\u001b[0mself\u001b[0m\u001b[1;33m.\u001b[0m\u001b[0mCLASS_REGION\u001b[0m\u001b[1;33m[\u001b[0m\u001b[0mindex\u001b[0m\u001b[1;33m]\u001b[0m \u001b[1;32mfor\u001b[0m \u001b[0mindex\u001b[0m \u001b[1;32min\u001b[0m \u001b[0mindexes\u001b[0m\u001b[1;33m]\u001b[0m\u001b[1;33m\u001b[0m\u001b[1;33m\u001b[0m\u001b[0m\n\u001b[0m\u001b[0;32m    291\u001b[0m \u001b[1;33m\u001b[0m\u001b[0m\n\u001b[0;32m    292\u001b[0m     \u001b[1;32mdef\u001b[0m \u001b[0mcompile_train_generator\u001b[0m\u001b[1;33m(\u001b[0m\u001b[0mself\u001b[0m\u001b[1;33m,\u001b[0m \u001b[0mtrain_dir\u001b[0m\u001b[1;33m,\u001b[0m \u001b[0mtarget_size\u001b[0m\u001b[1;33m,\u001b[0m \u001b[0mbatch_size\u001b[0m\u001b[1;33m=\u001b[0m\u001b[1;36m32\u001b[0m\u001b[1;33m)\u001b[0m\u001b[1;33m:\u001b[0m\u001b[1;33m\u001b[0m\u001b[1;33m\u001b[0m\u001b[0m\n",
      "\u001b[1;31mIndexError\u001b[0m: list index out of range"
     ]
    }
   ],
   "source": [
    "# Walking through the ./examples/images/ directory and checking each of the images for license plates.\n",
    "rootDir = 'images/'\n",
    "\n",
    "max_img_w = 1600\n",
    "for dirName, subdirList, fileList in os.walk(rootDir):\n",
    "    for fname in fileList:\n",
    "        img_path = os.path.join(dirName, fname)\n",
    "        print(img_path)\n",
    "        img = mpimg.imread(img_path)\n",
    "        plt.axis(\"off\")\n",
    "        plt.imshow(img)\n",
    "        plt.show()\n",
    "         \n",
    "        # corect size for better speed\n",
    "        img_w = img.shape[1]\n",
    "        img_h = img.shape[0]\n",
    "        img_w_r = 1\n",
    "        img_h_r = 1\n",
    "        if img_w > max_img_w:\n",
    "            resized_img = cv2.resize(img, (max_img_w, int(max_img_w/img_w*img_h)))\n",
    "            img_w_r = img_w/max_img_w\n",
    "            img_h_r = img_h/(max_img_w/img_w*img_h)\n",
    "        else:\n",
    "            resized_img = img\n",
    "\n",
    "        NP = nnet.detect([resized_img]) \n",
    "        \n",
    "        # Generate image mask.\n",
    "        cv_img_masks = await filters.cv_img_mask_async(NP)\n",
    "            \n",
    "        # Detect points.\n",
    "        arrPoints = await rectDetector.detectAsync(cv_img_masks, outboundHeightOffset=3-img_w_r, fixGeometry=True, fixRectangleAngle=10)\n",
    "        print(arrPoints)\n",
    "        arrPoints[..., 1:2] = arrPoints[..., 1:2]*img_h_r\n",
    "        arrPoints[..., 0:1] = arrPoints[..., 0:1]*img_w_r\n",
    "        \n",
    "        # cut zones\n",
    "        zones = await rectDetector.get_cv_zonesBGR_async(img, arrPoints)\n",
    "        toShowZones = await rectDetector.get_cv_zonesRGB_async(img, arrPoints)\n",
    "        for zone, points in zip(toShowZones, arrPoints):\n",
    "            plt.axis(\"off\")\n",
    "            plt.imshow(zone)\n",
    "            plt.show()\n",
    "    \n",
    "        # find standart\n",
    "        regionIds, stateIds = optionsDetector.predict(zones)\n",
    "        regionNames = optionsDetector.getRegionLabels(regionIds)\n",
    "        print(regionNames)\n",
    "\n",
    "        # find text with postprocessing by standart  \n",
    "        textArr = textDetector.predict(zones, regionNames)\n",
    "        textArr = await textPostprocessingAsync(textArr, regionNames)\n",
    "        print(textArr)"
   ]
  },
  {
   "cell_type": "code",
   "execution_count": null,
   "metadata": {},
   "outputs": [],
   "source": []
  }
 ],
 "metadata": {
  "kernelspec": {
   "display_name": "Python 3",
   "language": "python",
   "name": "python3"
  },
  "language_info": {
   "codemirror_mode": {
    "name": "ipython",
    "version": 3
   },
   "file_extension": ".py",
   "mimetype": "text/x-python",
   "name": "python",
   "nbconvert_exporter": "python",
   "pygments_lexer": "ipython3",
   "version": "3.7.1"
  }
 },
 "nbformat": 4,
 "nbformat_minor": 2
}
